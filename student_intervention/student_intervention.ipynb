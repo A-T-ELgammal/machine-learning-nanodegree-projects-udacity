{
 "cells": [
  {
   "cell_type": "markdown",
   "metadata": {},
   "source": [
    "# Machine Learning Engineer Nanodegree\n",
    "## Supervised Learning\n",
    "## Project 2: Building a Student Intervention System"
   ]
  },
  {
   "cell_type": "markdown",
   "metadata": {},
   "source": [
    "Welcome to the second project of the Machine Learning Engineer Nanodegree! In this notebook, some template code has already been provided for you, and it will be your job to implement the additional functionality necessary to successfully complete this project. Sections that begin with **'Implementation'** in the header indicate that the following block of code will require additional functionality which you must provide. Instructions will be provided for each section and the specifics of the implementation are marked in the code block with a `'TODO'` statement. Please be sure to read the instructions carefully!\n",
    "\n",
    "In addition to implementing code, there will be questions that you must answer which relate to the project and your implementation. Each section where you will answer a question is preceded by a **'Question X'** header. Carefully read each question and provide thorough answers in the following text boxes that begin with **'Answer:'**. Your project submission will be evaluated based on your answers to each of the questions and the implementation you provide.  \n",
    "\n",
    ">**Note:** Code and Markdown cells can be executed using the **Shift + Enter** keyboard shortcut. In addition, Markdown cells can be edited by typically double-clicking the cell to enter edit mode."
   ]
  },
  {
   "cell_type": "markdown",
   "metadata": {},
   "source": [
    "### Question 1 - Classification vs. Regression\n",
    "*Your goal for this project is to identify students who might need early intervention before they fail to graduate. Which type of supervised learning problem is this, classification or regression? Why?*"
   ]
  },
  {
   "cell_type": "markdown",
   "metadata": {},
   "source": [
    "**Answer: **\n",
    "It's a classification problem: the answer is boolean. Either a student need intervention or not. "
   ]
  },
  {
   "cell_type": "markdown",
   "metadata": {},
   "source": [
    "## Exploring the Data\n",
    "Run the code cell below to load necessary Python libraries and load the student data. Note that the last column from this dataset, `'passed'`, will be our target label (whether the student graduated or didn't graduate). All other columns are features about each student."
   ]
  },
  {
   "cell_type": "code",
   "execution_count": 1,
   "metadata": {
    "collapsed": false
   },
   "outputs": [
    {
     "name": "stderr",
     "output_type": "stream",
     "text": [
      "/Users/nathanzylbersztejn/anaconda/lib/python2.7/site-packages/matplotlib/font_manager.py:273: UserWarning: Matplotlib is building the font cache using fc-list. This may take a moment.\n",
      "  warnings.warn('Matplotlib is building the font cache using fc-list. This may take a moment.')\n"
     ]
    },
    {
     "name": "stdout",
     "output_type": "stream",
     "text": [
      "Student data read successfully!\n"
     ]
    }
   ],
   "source": [
    "%matplotlib inline\n",
    "# Import libraries\n",
    "import numpy as np\n",
    "import pandas as pd\n",
    "from time import time\n",
    "from sklearn.metrics import f1_score\n",
    "\n",
    "# Read student data\n",
    "student_data = pd.read_csv(\"student-data.csv\")\n",
    "print \"Student data read successfully!\""
   ]
  },
  {
   "cell_type": "markdown",
   "metadata": {},
   "source": [
    "### Implementation: Data Exploration\n",
    "Let's begin by investigating the dataset to determine how many students we have information on, and learn about the graduation rate among these students. In the code cell below, you will need to compute the following:\n",
    "- The total number of students, `n_students`.\n",
    "- The total number of features for each student, `n_features`.\n",
    "- The number of those students who passed, `n_passed`.\n",
    "- The number of those students who failed, `n_failed`.\n",
    "- The graduation rate of the class, `grad_rate`, in percent (%).\n"
   ]
  },
  {
   "cell_type": "code",
   "execution_count": 2,
   "metadata": {
    "collapsed": false
   },
   "outputs": [
    {
     "name": "stdout",
     "output_type": "stream",
     "text": [
      "Total number of students: 395\n",
      "Number of features: 30\n",
      "Number of students who passed: 265\n",
      "Number of students who failed: 130\n",
      "Graduation rate of the class: 67%\n"
     ]
    }
   ],
   "source": [
    "# TODO: Calculate number of students\n",
    "n_students = student_data.shape[0]\n",
    "\n",
    "# TODO: Calculate number of features\n",
    "n_features =  student_data.shape[1]-1\n",
    "\n",
    "# TODO: Calculate passing students\n",
    "n_passed = student_data[student_data['passed'] == 'yes'].shape[0]\n",
    "\n",
    "# TODO: Calculate failing students\n",
    "n_failed = student_data[student_data['passed'] == 'no'].shape[0]\n",
    "\n",
    "# TODO: Calculate graduation rate\n",
    "grad_rate = round(100 * float(n_passed) / (n_passed + n_failed),0)\n",
    "\n",
    "# Print the results\n",
    "print \"Total number of students: {}\".format(n_students)\n",
    "print \"Number of features: {}\".format(n_features)\n",
    "print \"Number of students who passed: {}\".format(n_passed)\n",
    "print \"Number of students who failed: {}\".format(n_failed)\n",
    "print \"Graduation rate of the class: {:.0f}%\".format(grad_rate)"
   ]
  },
  {
   "cell_type": "markdown",
   "metadata": {},
   "source": [
    "## Preparing the Data\n",
    "In this section, we will prepare the data for modeling, training and testing.\n",
    "\n",
    "### Identify feature and target columns\n",
    "It is often the case that the data you obtain contains non-numeric features. This can be a problem, as most machine learning algorithms expect numeric data to perform computations with.\n",
    "\n",
    "Run the code cell below to separate the student data into feature and target columns to see if any features are non-numeric."
   ]
  },
  {
   "cell_type": "code",
   "execution_count": 3,
   "metadata": {
    "collapsed": false
   },
   "outputs": [
    {
     "name": "stdout",
     "output_type": "stream",
     "text": [
      "Feature columns:\n",
      "['school', 'sex', 'age', 'address', 'famsize', 'Pstatus', 'Medu', 'Fedu', 'Mjob', 'Fjob', 'reason', 'guardian', 'traveltime', 'studytime', 'failures', 'schoolsup', 'famsup', 'paid', 'activities', 'nursery', 'higher', 'internet', 'romantic', 'famrel', 'freetime', 'goout', 'Dalc', 'Walc', 'health', 'absences']\n",
      "\n",
      "Target column: passed\n",
      "\n",
      "Feature values:\n",
      "  school sex  age address famsize Pstatus  Medu  Fedu     Mjob      Fjob  \\\n",
      "0     GP   F   18       U     GT3       A     4     4  at_home   teacher   \n",
      "1     GP   F   17       U     GT3       T     1     1  at_home     other   \n",
      "2     GP   F   15       U     LE3       T     1     1  at_home     other   \n",
      "3     GP   F   15       U     GT3       T     4     2   health  services   \n",
      "4     GP   F   16       U     GT3       T     3     3    other     other   \n",
      "\n",
      "    ...    higher internet  romantic  famrel  freetime goout Dalc Walc health  \\\n",
      "0   ...       yes       no        no       4         3     4    1    1      3   \n",
      "1   ...       yes      yes        no       5         3     3    1    1      3   \n",
      "2   ...       yes      yes        no       4         3     2    2    3      3   \n",
      "3   ...       yes      yes       yes       3         2     2    1    1      5   \n",
      "4   ...       yes       no        no       4         3     2    1    2      5   \n",
      "\n",
      "  absences  \n",
      "0        6  \n",
      "1        4  \n",
      "2       10  \n",
      "3        2  \n",
      "4        4  \n",
      "\n",
      "[5 rows x 30 columns]\n"
     ]
    }
   ],
   "source": [
    "# Extract feature columns\n",
    "feature_cols = list(student_data.columns[:-1])\n",
    "\n",
    "# Extract target column 'passed'\n",
    "target_col = student_data.columns[-1] \n",
    "\n",
    "# Show the list of columns\n",
    "print \"Feature columns:\\n{}\".format(feature_cols)\n",
    "print \"\\nTarget column: {}\".format(target_col)\n",
    "\n",
    "# Separate the data into feature data and target data (X_all and y_all, respectively)\n",
    "X_all = student_data[feature_cols]\n",
    "y_all = student_data[target_col]\n",
    "\n",
    "# Show the feature information by printing the first five rows\n",
    "print \"\\nFeature values:\"\n",
    "print X_all.head()"
   ]
  },
  {
   "cell_type": "markdown",
   "metadata": {},
   "source": [
    "### Preprocess Feature Columns\n",
    "\n",
    "As you can see, there are several non-numeric columns that need to be converted! Many of them are simply `yes`/`no`, e.g. `internet`. These can be reasonably converted into `1`/`0` (binary) values.\n",
    "\n",
    "Other columns, like `Mjob` and `Fjob`, have more than two values, and are known as _categorical variables_. The recommended way to handle such a column is to create as many columns as possible values (e.g. `Fjob_teacher`, `Fjob_other`, `Fjob_services`, etc.), and assign a `1` to one of them and `0` to all others.\n",
    "\n",
    "These generated columns are sometimes called _dummy variables_, and we will use the [`pandas.get_dummies()`](http://pandas.pydata.org/pandas-docs/stable/generated/pandas.get_dummies.html?highlight=get_dummies#pandas.get_dummies) function to perform this transformation. Run the code cell below to perform the preprocessing routine discussed in this section."
   ]
  },
  {
   "cell_type": "code",
   "execution_count": 4,
   "metadata": {
    "collapsed": false
   },
   "outputs": [
    {
     "name": "stdout",
     "output_type": "stream",
     "text": [
      "Processed feature columns (48 total features):\n",
      "['school_GP', 'school_MS', 'sex_F', 'sex_M', 'age', 'address_R', 'address_U', 'famsize_GT3', 'famsize_LE3', 'Pstatus_A', 'Pstatus_T', 'Medu', 'Fedu', 'Mjob_at_home', 'Mjob_health', 'Mjob_other', 'Mjob_services', 'Mjob_teacher', 'Fjob_at_home', 'Fjob_health', 'Fjob_other', 'Fjob_services', 'Fjob_teacher', 'reason_course', 'reason_home', 'reason_other', 'reason_reputation', 'guardian_father', 'guardian_mother', 'guardian_other', 'traveltime', 'studytime', 'failures', 'schoolsup', 'famsup', 'paid', 'activities', 'nursery', 'higher', 'internet', 'romantic', 'famrel', 'freetime', 'goout', 'Dalc', 'Walc', 'health', 'absences']\n"
     ]
    }
   ],
   "source": [
    "def preprocess_features(X):\n",
    "    ''' Preprocesses the student data and converts non-numeric binary variables into\n",
    "        binary (0/1) variables. Converts categorical variables into dummy variables. '''\n",
    "    \n",
    "    # Initialize new output DataFrame\n",
    "    output = pd.DataFrame(index = X.index)\n",
    "\n",
    "    # Investigate each feature column for the data\n",
    "    for col, col_data in X.iteritems():\n",
    "        \n",
    "        # If data type is non-numeric, replace all yes/no values with 1/0\n",
    "        if col_data.dtype == object:\n",
    "            col_data = col_data.replace(['yes', 'no'], [1, 0])\n",
    "\n",
    "        # If data type is categorical, convert to dummy variables\n",
    "        if col_data.dtype == object:\n",
    "            # Example: 'school' => 'school_GP' and 'school_MS'\n",
    "            col_data = pd.get_dummies(col_data, prefix = col)  \n",
    "        \n",
    "        # Collect the revised columns\n",
    "        output = output.join(col_data)\n",
    "    \n",
    "    return output\n",
    "\n",
    "X_all = preprocess_features(X_all)\n",
    "print \"Processed feature columns ({} total features):\\n{}\".format(len(X_all.columns), list(X_all.columns))\n",
    "X_all.to_csv(\"processed_data.csv\", sep='\\t', encoding='utf-8')"
   ]
  },
  {
   "cell_type": "markdown",
   "metadata": {},
   "source": [
    "### Implementation: Training and Testing Data Split\n",
    "So far, we have converted all _categorical_ features into numeric values. For the next step, we split the data (both features and corresponding labels) into training and test sets. In the following code cell below, you will need to implement the following:\n",
    "- Randomly shuffle and split the data (`X_all`, `y_all`) into training and testing subsets.\n",
    "  - Use 300 training points (approximately 75%) and 95 testing points (approximately 25%).\n",
    "  - Set a `random_state` for the function(s) you use, if provided.\n",
    "  - Store the results in `X_train`, `X_test`, `y_train`, and `y_test`."
   ]
  },
  {
   "cell_type": "code",
   "execution_count": 5,
   "metadata": {
    "collapsed": false
   },
   "outputs": [
    {
     "name": "stdout",
     "output_type": "stream",
     "text": [
      "Training set has 300 samples.\n",
      "Testing set has 95 samples.\n"
     ]
    }
   ],
   "source": [
    "# TODO: Import any additional functionality you may need here\n",
    "from sklearn.cross_validation import train_test_split\n",
    "# TODO: Set the number of training points\n",
    "num_train = 300\n",
    "# TODO: Shuffle and split the dataset into the number of training and testing points above\n",
    "X_train, X_test, y_train, y_test = train_test_split(X_all, y_all, test_size=95, random_state=0)\n",
    "\n",
    "\n",
    "# Show the results of the split\n",
    "print \"Training set has {} samples.\".format(X_train.shape[0])\n",
    "print \"Testing set has {} samples.\".format(X_test.shape[0])"
   ]
  },
  {
   "cell_type": "markdown",
   "metadata": {},
   "source": [
    "## Training and Evaluating Models\n",
    "In this section, you will choose 3 supervised learning models that are appropriate for this problem and available in `scikit-learn`. You will first discuss the reasoning behind choosing these three models by considering what you know about the data and each model's strengths and weaknesses. You will then fit the model to varying sizes of training data (100 data points, 200 data points, and 300 data points) and measure the F<sub>1</sub> score. You will need to produce three tables (one for each model) that shows the training set size, training time, prediction time, F<sub>1</sub> score on the training set, and F<sub>1</sub> score on the testing set."
   ]
  },
  {
   "cell_type": "markdown",
   "metadata": {},
   "source": [
    "### Question 2 - Model Application\n",
    "*List three supervised learning models that are appropriate for this problem. What are the general applications of each model? What are their strengths and weaknesses? Given what you know about the data, why did you choose these models to be applied?*"
   ]
  },
  {
   "cell_type": "markdown",
   "metadata": {},
   "source": [
    "**Answer: **\n",
    "\n",
    "**Naive Bayes**\n",
    "\n",
    "_General applications:_\n",
    "\n",
    "Many text classification problems, such as spam detection, sentiment analysis, or content categorization (a new article is about sports or business).\n",
    "_Advantages:_\n",
    "- Naive bayes is a fast and easy to configure algorithm since you only have to choose the distrubution of the conditional probability of the data given the hypothesis. That's why I am using it here: since there is no hyper parameter to tune it'll give a decent idea of the achievable accuracy\n",
    "- NB works well with a hign number of features (that's why it's used with text classification) and we have 48 after processing. \n",
    "- NB works well with incomplete data. It's not our case here but if some informations were missing in some records (e.g. parents job type) it still would work (if smoothing is applied)\n",
    "\n",
    "_Disadvantages:_\n",
    "- NB relies on the strong assumption that features are totally independant\n",
    "\n",
    "**Decision trees**\n",
    "\n",
    "_General applications:_\n",
    "\n",
    "Real life classification problems such as credit risk, rating (stars) classification, medical diagnosis\n",
    "\n",
    "_Advantages:_\n",
    "- They have explanatory power: since they are a sequence of decisions they are easy to understand and interpret. \n",
    "- It tells what features matter since they come up at the top of the tree.\n",
    "- We don't know if our problem is linear, and DT don't require linearity\n",
    "- It gives good results out of the box without too much parameter tuning (even if it may overfit). Therefore it gives an indication of the precision we can achieve in predictions for this problem.\n",
    "\n",
    "_Disadvantages:_\n",
    "It tends to overfit, but we can then tune hyperparameters such has the minimum sample split or max depth to overcome this problem.\n",
    "\n",
    "**SVM**\n",
    "\n",
    "_General applications_\n",
    "\n",
    "Classification problems, such as  text categorization, image classification, bioinformatics (diagnosis)\n",
    "\n",
    "_Advantages:_\n",
    "- SVM works well with non linear classification problems, and we'll see that our problem is not, at least in its dimensional space.\n",
    "- Although SVM can make data linearly separable by mapping them to a higher dimensional space, and thus\n",
    "guarantee that every instance will be classified correctly (no training error). However doing so typically overfits. SVM allows for \"soft margins\": the analyst can decide that it's ok to have some of the data misclassified at the cost of a higher bias. I believe it's a good alternative option to decision trees since we're in a high dimensional and non linearly separable problem.\n",
    "\n",
    "_Disadvantages:_\n",
    "- SVM can be computationnally expansive but we don't have that many data and dimensions so it should not be an issue.\n",
    "- SVM has only a 2 hyper parameters (with a 'rbf' kernel) so it's easy to tune with a grid search\n",
    "\n"
   ]
  },
  {
   "cell_type": "markdown",
   "metadata": {},
   "source": [
    "### Setup\n",
    "Run the code cell below to initialize three helper functions which you can use for training and testing the three supervised learning models you've chosen above. The functions are as follows:\n",
    "- `train_classifier` - takes as input a classifier and training data and fits the classifier to the data.\n",
    "- `predict_labels` - takes as input a fit classifier, features, and a target labeling and makes predictions using the F<sub>1</sub> score.\n",
    "- `train_predict` - takes as input a classifier, and the training and testing data, and performs `train_clasifier` and `predict_labels`.\n",
    " - This function will report the F<sub>1</sub> score for both the training and testing data separately."
   ]
  },
  {
   "cell_type": "code",
   "execution_count": 6,
   "metadata": {
    "collapsed": false
   },
   "outputs": [],
   "source": [
    "def train_classifier(clf, X_train, y_train):\n",
    "    ''' Fits a classifier to the training data. '''\n",
    "    \n",
    "    # Start the clock, train the classifier, then stop the clock\n",
    "    start = time()\n",
    "    clf.fit(X_train, y_train)\n",
    "    end = time()\n",
    "    \n",
    "    # Print the results\n",
    "    print \"Trained model in {:.4f} seconds\".format(end - start)\n",
    "\n",
    "    \n",
    "def predict_labels(clf, features, target):\n",
    "    ''' Makes predictions using a fit classifier based on F1 score. '''\n",
    "    \n",
    "    # Start the clock, make predictions, then stop the clock\n",
    "    start = time()\n",
    "    y_pred = clf.predict(features)\n",
    "    end = time()\n",
    "    \n",
    "    # Print and return results\n",
    "    print \"Made predictions in {:.4f} seconds.\".format(end - start)\n",
    "    return f1_score(target.values, y_pred, pos_label='yes')\n",
    "\n",
    "def train_predict(clf, X_train, y_train, X_test, y_test):\n",
    "    ''' Train and predict using a classifer based on F1 score. '''\n",
    "    \n",
    "    # Indicate the classifier and the training set size\n",
    "    print \"Training a {} using a training set size of {}. . .\".format(clf.__class__.__name__, len(X_train))\n",
    "    \n",
    "    # Train the classifier\n",
    "    train_classifier(clf, X_train, y_train)\n",
    "    \n",
    "    # Print the results of prediction for both training and testing\n",
    "    print \"F1 score for training set: {:.4f}.\".format(predict_labels(clf, X_train, y_train))\n",
    "    print \"F1 score for test set: {:.4f}.\".format(predict_labels(clf, X_test, y_test))\n",
    "    print\"\""
   ]
  },
  {
   "cell_type": "markdown",
   "metadata": {},
   "source": [
    "### Implementation: Model Performance Metrics\n",
    "With the predefined functions above, you will now import the three supervised learning models of your choice and run the `train_predict` function for each one. Remember that you will need to train and predict on each classifier for three different training set sizes: 100, 200, and 300. Hence, you should expect to have 9 different outputs below — 3 for each model using the varying training set sizes. In the following code cell, you will need to implement the following:\n",
    "- Import the three supervised learning models you've discussed in the previous section.\n",
    "- Initialize the three models and store them in `clf_A`, `clf_B`, and `clf_C`.\n",
    " - Use a `random_state` for each model you use, if provided.\n",
    "- Create the different training set sizes to be used to train each model.\n",
    " - *Do not reshuffle and resplit the data! The new training points should be drawn from `X_train` and `y_train`.*\n",
    "- Fit each model with each training set size and make predictions on the test set (9 in total).  \n",
    "**Note:** Three tables are provided after the following code cell which can be used to store your results."
   ]
  },
  {
   "cell_type": "code",
   "execution_count": 7,
   "metadata": {
    "collapsed": true
   },
   "outputs": [],
   "source": [
    "# we're gonna need to scale our data for SVM. Here's a function that scale all columns \n",
    "#of a panda data frame\n",
    "\n",
    "from sklearn import preprocessing\n",
    "def scaleDataFrame(df,scaler):\n",
    "    df2 = df.copy();\n",
    "    df2[df2.columns.values] = scaler.fit_transform(df2[df2.columns.values])\n",
    "    return df2\n"
   ]
  },
  {
   "cell_type": "code",
   "execution_count": 8,
   "metadata": {
    "collapsed": false
   },
   "outputs": [],
   "source": [
    "from sklearn.externals.six import StringIO  \n",
    "from IPython.display import Image\n",
    "import pydot\n",
    "from sklearn import tree\n",
    "def exportTree(estimator,fileName):\n",
    "    dot_data = StringIO() \n",
    "    tree.export_graphviz(estimator,out_file=dot_data,feature_names=list(X_all.columns.values),class_names=[\"failed\",\"passed\"],filled=True, rounded=True,special_characters=True) \n",
    "    graph = pydot.graph_from_dot_data(dot_data.getvalue()) \n",
    "    if graph.write_pdf(fileName):\n",
    "        print fileName,\" succesfully generated\""
   ]
  },
  {
   "cell_type": "code",
   "execution_count": 9,
   "metadata": {
    "collapsed": false
   },
   "outputs": [
    {
     "name": "stdout",
     "output_type": "stream",
     "text": [
      "Training a GaussianNB using a training set size of 100. . .\n",
      "Trained model in 0.0009 seconds\n",
      "Made predictions in 0.0003 seconds.\n",
      "F1 score for training set: 0.8550.\n",
      "Made predictions in 0.0003 seconds.\n",
      "F1 score for test set: 0.7481.\n",
      "\n",
      "\n",
      "\n",
      "Training a GaussianNB using a training set size of 200. . .\n",
      "Trained model in 0.0010 seconds\n",
      "Made predictions in 0.0007 seconds.\n",
      "F1 score for training set: 0.8321.\n",
      "Made predictions in 0.0003 seconds.\n",
      "F1 score for test set: 0.7132.\n",
      "\n",
      "\n",
      "\n",
      "Training a GaussianNB using a training set size of 300. . .\n",
      "Trained model in 0.0007 seconds\n",
      "Made predictions in 0.0004 seconds.\n",
      "F1 score for training set: 0.8088.\n",
      "Made predictions in 0.0004 seconds.\n",
      "F1 score for test set: 0.7500.\n",
      "\n",
      "\n",
      "\n",
      "Training a DecisionTreeClassifier using a training set size of 100. . .\n",
      "Trained model in 0.0008 seconds\n",
      "Made predictions in 0.0002 seconds.\n",
      "F1 score for training set: 1.0000.\n",
      "Made predictions in 0.0001 seconds.\n",
      "F1 score for test set: 0.6942.\n",
      "\n",
      "\n",
      "\n",
      "Training a DecisionTreeClassifier using a training set size of 200. . .\n",
      "Trained model in 0.0013 seconds\n",
      "Made predictions in 0.0002 seconds.\n",
      "F1 score for training set: 1.0000.\n",
      "Made predictions in 0.0002 seconds.\n",
      "F1 score for test set: 0.6825.\n",
      "\n",
      "\n",
      "\n",
      "Training a DecisionTreeClassifier using a training set size of 300. . .\n",
      "Trained model in 0.0018 seconds\n",
      "Made predictions in 0.0002 seconds.\n",
      "F1 score for training set: 1.0000.\n",
      "Made predictions in 0.0002 seconds.\n",
      "F1 score for test set: 0.7273.\n",
      "\n",
      "\n",
      "\n",
      "Training a SVC using a training set size of 100. . .\n",
      "Trained model in 0.0013 seconds\n",
      "Made predictions in 0.0007 seconds.\n",
      "F1 score for training set: 0.8591.\n",
      "Made predictions in 0.0007 seconds.\n",
      "F1 score for test set: 0.7838.\n",
      "\n",
      "\n",
      "\n",
      "Training a SVC using a training set size of 200. . .\n",
      "Trained model in 0.0030 seconds\n",
      "Made predictions in 0.0022 seconds.\n",
      "F1 score for training set: 0.8693.\n",
      "Made predictions in 0.0013 seconds.\n",
      "F1 score for test set: 0.7755.\n",
      "\n",
      "\n",
      "\n",
      "Training a SVC using a training set size of 300. . .\n",
      "Trained model in 0.0060 seconds\n",
      "Made predictions in 0.0059 seconds.\n",
      "F1 score for training set: 0.8692.\n",
      "Made predictions in 0.0016 seconds.\n",
      "F1 score for test set: 0.7586.\n",
      "\n",
      "\n",
      "\n",
      "first_decision_tree.pdf  succesfully generated\n"
     ]
    }
   ],
   "source": [
    "# TODO: Import the three supervised learning models from sklearn\n",
    "from sklearn.naive_bayes import GaussianNB\n",
    "from sklearn import tree\n",
    "from sklearn import svm\n",
    "\n",
    "# TODO: Initialize the three models\n",
    "clf_A = GaussianNB()\n",
    "clf_B = tree.DecisionTreeClassifier()\n",
    "clf_C = clf = svm.SVC()\n",
    "\n",
    "# TODO: Set up the training set sizes\n",
    "X_train_100 = X_train[:100]\n",
    "y_train_100 = y_train[:100]\n",
    "\n",
    "X_train_200 = X_train[:200]\n",
    "y_train_200 = y_train[:200]\n",
    "\n",
    "X_train_300 = X_train[:300]\n",
    "y_train_300 = y_train[:300]\n",
    "\n",
    "\n",
    "# TODO: Execute the 'train_predict' function for each classifier and each training set size\n",
    "for clf in [clf_A, clf_B, clf_C]:\n",
    "  for size in [100, 200, 300]:\n",
    "      train_predict(clf, X_train[:size], y_train[:size], X_test, y_test)\n",
    "      print '\\n'\n",
    "\n",
    "exportTree(clf_B,\"first_decision_tree.pdf\")\n",
    "# Let's scale our data and train the SVM classifier again\n",
    "# scaler = preprocessing.StandardScaler()\n",
    "# X_train = scaleDataFrame(X_train,scaler)\n",
    "# X_test = scaleDataFrame(X_test,scaler)\n",
    "\n",
    "# X_train_300 = X_train[:300]\n",
    "# y_train_300 = y_train[:300]\n",
    "# train_predict(clf_A,X_train_300,y_train_300,X_test,y_test)\n",
    "\n"
   ]
  },
  {
   "cell_type": "markdown",
   "metadata": {},
   "source": [
    "### Tabular Results\n",
    "Edit the cell below to see how a table can be designed in [Markdown](https://github.com/adam-p/markdown-here/wiki/Markdown-Cheatsheet#tables). You can record your results from above in the tables provided."
   ]
  },
  {
   "cell_type": "markdown",
   "metadata": {},
   "source": [
    "##### ** Classifer 1 - GaussianNB**  \n",
    "\n",
    "| Training Set Size | Prediction Time (train) | Prediction Time (test) | F1 Score (train) | F1 Score (test) |\n",
    "| :---------------: | :---------------------: | :--------------------: | :--------------: | :-------------: |\n",
    "| 100               |        0.0006           |          0.0007        |        0.8217    |     0.7481      |\n",
    "| 200               |        0.0008           |          0.0004        |        0.8195    |     0.7132      |\n",
    "| 300               |        0.0006           |          0.0003        |        0.8090    |     0.7500      |\n",
    "\n",
    "** Classifer 2 - Decision tree**  \n",
    "\n",
    "| Training Set Size | Prediction Time (train) | Prediction Time (test) | F1 Score (train) | F1 Score (test) |\n",
    "| :---------------: | :---------------------: | :--------------------: | :--------------: | :-------------: |\n",
    "| 100               |        0.0005           |          0.0002        |        1.0000    |     0.6667      |\n",
    "| 200               |        0.0003           |          0.0002        |        1.0000    |     0.7077      |\n",
    "| 300               |        0.0004           |          0.0004        |        1.0000    |     0.7333      |\n",
    "\n",
    "** Classifer 3 - SVM**  \n",
    "\n",
    "| Training Set Size | Prediction Time (train) | Prediction Time (test) | F1 Score (train) | F1 Score (test) |\n",
    "| :---------------: | :---------------------: | :--------------------: | :--------------: | :-------------: |\n",
    "| 100               |        0.0013           |           0.0010       |      0.9481      |     0.7838      |\n",
    "| 200               |        0.0030           |           0.0019       |      0.9199      |     0.7755      |\n",
    "| 300               |        0.0047           |           0.0016       |      0.9062      |     0.7586      |"
   ]
  },
  {
   "cell_type": "markdown",
   "metadata": {},
   "source": [
    "## Choosing the Best Model\n",
    "In this final section, you will choose from the three supervised learning models the *best* model to use on the student data. You will then perform a grid search optimization for the model over the entire training set (`X_train` and `y_train`) by tuning at least one parameter to improve upon the untuned model's F<sub>1</sub> score. "
   ]
  },
  {
   "cell_type": "markdown",
   "metadata": {},
   "source": [
    "### Question 3 - Chosing the Best Model\n",
    "*Based on the experiments you performed earlier, in one to two paragraphs, explain to the board of supervisors what single model you chose as the best model. Which model is generally the most appropriate based on the available data, limited resources, cost, and performance?*"
   ]
  },
  {
   "cell_type": "markdown",
   "metadata": {},
   "source": [
    "**Answer: **\n",
    "At first sight GaussianNB seems better since it has the best high score on the biggest (most informed) training set. However we can't do much more with Naive Bayes, so let's see the two others where we still have fine tuning possibilities.\n",
    "\n",
    "If SVM has a slightly better score, there is no clear winner yet. the marginal gain in accuracy is at the cost of 300% increase in computational cost (time). It feels reasonable to go on with both models and see which one performs best after a grid search. If SVM looks more promising based on the prelimiary results, I like the simplicity and explanatory power of decision trees as they implicitly explain which features are most important as they are closer to the root."
   ]
  },
  {
   "cell_type": "markdown",
   "metadata": {},
   "source": [
    "### Question 4 - Model in Layman's Terms\n",
    "*In one to two paragraphs, explain to the board of directors in layman's terms how the final model chosen is supposed to work. For example if you've chosen to use a decision tree or a support vector machine, how does the model go about making a prediction?*\n",
    "\n",
    "#### SVM\n",
    "SVM separates the students in 2 categories: those who pass and those who don't. Eventhough in reality those categories arent clearly separable because they are intricated (think about the Ying and Yang image: you cannot separate ying and yang), SVM has mathematical trick to draw a clear frontier. This frontier is drawn such as it maximizes its distance from the closest data points (instances in the training set). In a way, SVM looks mostly at the instances with opposite results that are the closest to each other, so it makes an extra effort separating samples that are more similar, hence its power.\n",
    "\n",
    "#### Decision tree\n",
    "A decision tree is a simple sequence of decisions leading to a result. To make a prediction on a sample, it takes one feature at a time and compares its value to a threshold. It allows easy to interpret predictions such as \"if the students' failures are more than one, the travel time is more than an hour and the student has been absent more than 5 days then the student will fail\""
   ]
  },
  {
   "cell_type": "markdown",
   "metadata": {},
   "source": [
    "**Answer: **"
   ]
  },
  {
   "cell_type": "markdown",
   "metadata": {},
   "source": [
    "### Implementation: Model Tuning\n",
    "Fine tune the chosen model. Use grid search (`GridSearchCV`) with at least one important parameter tuned with at least 3 different values. You will need to use the entire training set for this. In the code cell below, you will need to implement the following:\n",
    "- Import [`sklearn.grid_search.gridSearchCV`](http://scikit-learn.org/stable/modules/generated/sklearn.grid_search.GridSearchCV.html) and [`sklearn.metrics.make_scorer`](http://scikit-learn.org/stable/modules/generated/sklearn.metrics.make_scorer.html).\n",
    "- Create a dictionary of parameters you wish to tune for the chosen model.\n",
    " - Example: `parameters = {'parameter' : [list of values]}`.\n",
    "- Initialize the classifier you've chosen and store it in `clf`.\n",
    "- Create the F<sub>1</sub> scoring function using `make_scorer` and store it in `f1_scorer`.\n",
    " - Set the `pos_label` parameter to the correct value!\n",
    "- Perform grid search on the classifier `clf` using `f1_scorer` as the scoring method, and store it in `grid_obj`.\n",
    "- Fit the grid search object to the training data (`X_train`, `y_train`), and store it in `grid_obj`."
   ]
  },
  {
   "cell_type": "markdown",
   "metadata": {},
   "source": [
    "#### Let's first work on the decision tree\n",
    "In this section we'll grid search the hyperparameters of the decision tree in order to find the tree that fits best our data and outputs the best f1 score."
   ]
  },
  {
   "cell_type": "code",
   "execution_count": 10,
   "metadata": {
    "collapsed": false
   },
   "outputs": [
    {
     "name": "stdout",
     "output_type": "stream",
     "text": [
      "0.794520547945\n",
      "DecisionTreeClassifier(class_weight=None, criterion='gini', max_depth=2,\n",
      "            max_features=None, max_leaf_nodes=None, min_samples_leaf=1,\n",
      "            min_samples_split=12, min_weight_fraction_leaf=0.0,\n",
      "            presort=False, random_state=None, splitter='random')\n",
      "grid_searched_decision_tree.pdf  succesfully generated\n"
     ]
    }
   ],
   "source": [
    "from sklearn import grid_search\n",
    "\n",
    "from sklearn.metrics import make_scorer\n",
    "\n",
    "\n",
    "DTparams = {\n",
    "    'criterion':['gini','entropy'],\n",
    "    'splitter':['random','best'],\n",
    "    'min_samples_split':list(2*i for i in range(1,50)),\n",
    "    'max_depth':list(range(1,15))\n",
    "}\n",
    "f1_scorer = make_scorer(f1_score, pos_label=\"yes\")\n",
    "grid_searched_decision_tree = grid_search.GridSearchCV(tree.DecisionTreeClassifier(),param_grid=DTparams,scoring=f1_scorer,n_jobs=4,verbose=0);\n",
    "grid_searched_decision_tree.fit(X_train_300,y_train_300);\n",
    "pred = grid_searched_decision_tree.predict(X_test);\n",
    "print f1_score(y_test,pred,pos_label=\"yes\")\n",
    "print grid_searched_decision_tree.best_estimator_\n",
    "\n",
    "exportTree(grid_searched_decision_tree.best_estimator_,\"grid_searched_decision_tree.pdf\")\n",
    "\n",
    "# Result:\n",
    "# DecisionTreeClassifier(class_weight=None, criterion='entropy', max_depth=2,\n",
    "#             max_features=None, max_leaf_nodes=None, min_samples_leaf=1,\n",
    "#             min_samples_split=38, min_weight_fraction_leaf=0.0,\n",
    "#             presort=False, random_state=None, splitter='random')\n",
    "# 0.802919708029"
   ]
  },
  {
   "cell_type": "markdown",
   "metadata": {},
   "source": [
    "#### Let's now work on SVM\n",
    "In this section we'll grid search the hyperparameters of the SVM classifier"
   ]
  },
  {
   "cell_type": "code",
   "execution_count": 11,
   "metadata": {
    "collapsed": false,
    "scrolled": true
   },
   "outputs": [
    {
     "name": "stdout",
     "output_type": "stream",
     "text": [
      "SVC(C=1, cache_size=200, class_weight=None, coef0=0.0,\n",
      "  decision_function_shape=None, degree=3, gamma=0.01, kernel='rbf',\n",
      "  max_iter=-1, probability=False, random_state=None, shrinking=True,\n",
      "  tol=0.001, verbose=False)\n",
      "0.789115646259\n"
     ]
    }
   ],
   "source": [
    "#Let's scale our data and train the SVM classifier again\n",
    "scaler = preprocessing.StandardScaler()\n",
    "X_train_s = scaleDataFrame(X_train[:300],scaler)\n",
    "X_test_s = scaleDataFrame(X_test,scaler)\n",
    "X_train_s.to_csv(\"x_train_scaled_data.csv\", sep='\\t', encoding='utf-8')\n",
    "\n",
    "\n",
    "gammas = list((10**exp for exp in range(-10, 10)))\n",
    "C = list((10**exp for exp in range(-10, 10)))\n",
    "SVMparams = {\n",
    "    'kernel':['rbf'],\n",
    "    'C':C,\n",
    "    'gamma':gammas,\n",
    "}\n",
    "clf_gsvm = grid_search.GridSearchCV(svm.SVC(),param_grid=SVMparams,scoring=f1_scorer,n_jobs=4,verbose=0)\n",
    "clf_gsvm.fit(X_train_s,y_train_300);\n",
    "pred = clf_gsvm.predict(X_test_s);\n",
    "print clf_gsvm.best_estimator_\n",
    "print f1_score(y_test,pred,pos_label=\"yes\")"
   ]
  },
  {
   "cell_type": "markdown",
   "metadata": {},
   "source": [
    "#### Remove outliers and compare results\n",
    "If the data were normally distributed we could use an elliptic enveloppe to estimate which samples are outliers.\n",
    "Instead we're gonna use OneClassSVM. It is primarily used to detect novelty: on a trained model free from outliers it draws a boundary such that it can estimate if a new instance belongs to that dataset. However, when the data distribution is not normal and operating is a relatively high dimensional space, OneClassSVM can be used as an outlier detection tool.\n",
    "Here we have to reprocess the data from the beginning."
   ]
  },
  {
   "cell_type": "code",
   "execution_count": 12,
   "metadata": {
    "collapsed": true
   },
   "outputs": [],
   "source": [
    "X_all2 = X_all.copy()\n",
    "y_all2 = y_all.copy()"
   ]
  },
  {
   "cell_type": "markdown",
   "metadata": {},
   "source": [
    "Now, we run the OneClassSVM to find the outliers. We run it on the training set only, so the test set remains untouched. The output is a vector of values either +1 or -1. -1 are outliers.\n",
    "The number of outliers is quite high, about 25% and significantly decreases the size of our training set. It makes sense: the probability that a sample is an outlier in one dimension increases with the dimensionality."
   ]
  },
  {
   "cell_type": "code",
   "execution_count": 13,
   "metadata": {
    "collapsed": false,
    "scrolled": true
   },
   "outputs": [
    {
     "name": "stdout",
     "output_type": "stream",
     "text": [
      "Training instances before outliers removal: 300\n",
      "Training instances after outliers removal: 197\n",
      "Instances in the labels of the training set: 197\n"
     ]
    },
    {
     "name": "stderr",
     "output_type": "stream",
     "text": [
      "/Users/nathanzylbersztejn/anaconda/lib/python2.7/site-packages/ipykernel/__main__.py:10: SettingWithCopyWarning: \n",
      "A value is trying to be set on a copy of a slice from a DataFrame.\n",
      "Try using .loc[row_indexer,col_indexer] = value instead\n",
      "\n",
      "See the caveats in the documentation: http://pandas.pydata.org/pandas-docs/stable/indexing.html#indexing-view-versus-copy\n",
      "/Users/nathanzylbersztejn/anaconda/lib/python2.7/site-packages/ipykernel/__main__.py:11: SettingWithCopyWarning: \n",
      "A value is trying to be set on a copy of a slice from a DataFrame.\n",
      "Try using .loc[row_indexer,col_indexer] = value instead\n",
      "\n",
      "See the caveats in the documentation: http://pandas.pydata.org/pandas-docs/stable/indexing.html#indexing-view-versus-copy\n"
     ]
    }
   ],
   "source": [
    "# shuffle and split\n",
    "X_train2, X_test2, y_train2, y_test2 = train_test_split(X_all2, y_all2, test_size=95, random_state=0)\n",
    "\n",
    "# Run oneclass svm to detect outliers in testing set.\n",
    "clf = svm.OneClassSVM(nu=0.1, kernel=\"rbf\", gamma=0.1)\n",
    "clf.fit(X_train2)\n",
    "outliers = clf.predict(X_train2)\n",
    "\n",
    "# putting everything together\n",
    "X_train2['outliers'] = outliers\n",
    "X_train2['passed'] = y_train2\n",
    "#remove outliers\n",
    "instances_before_outliers_removal = X_train2.shape[0]\n",
    "X_train2 = X_train2[X_train2.outliers == 1]\n",
    "instances_after_outliers_removal = X_train2.shape[0]\n",
    "# remove the outlier column\n",
    "X_train2 = X_train2.drop('outliers', 1)\n",
    "# separate the results from the features\n",
    "y_train2 = X_train2['passed']\n",
    "X_train2 = X_train2.drop('passed', 1)\n",
    "\n",
    "print \"Training instances before outliers removal:\",instances_before_outliers_removal\n",
    "print \"Training instances after outliers removal:\",instances_after_outliers_removal\n",
    "print \"Instances in the labels of the training set:\",y_train2.shape[0]\n",
    "# print outliers\n"
   ]
  },
  {
   "cell_type": "markdown",
   "metadata": {},
   "source": [
    "Now we must remove the rows marked with -1 and process, shuffle-split and scale again."
   ]
  },
  {
   "cell_type": "markdown",
   "metadata": {},
   "source": [
    "Moment of truth: let's run our grid searches again"
   ]
  },
  {
   "cell_type": "code",
   "execution_count": 14,
   "metadata": {
    "collapsed": false
   },
   "outputs": [
    {
     "name": "stdout",
     "output_type": "stream",
     "text": [
      "0.794520547945\n",
      "DecisionTreeClassifier(class_weight=None, criterion='gini', max_depth=1,\n",
      "            max_features=None, max_leaf_nodes=None, min_samples_leaf=1,\n",
      "            min_samples_split=2, min_weight_fraction_leaf=0.0,\n",
      "            presort=False, random_state=None, splitter='random')\n",
      "grid_searched_decision_tree_outliers_removed.pdf  succesfully generated\n"
     ]
    }
   ],
   "source": [
    "grid_searched_decision_tree_outliers_removed = grid_search.GridSearchCV(tree.DecisionTreeClassifier(),param_grid=DTparams,scoring=f1_scorer,n_jobs=4,verbose=0);\n",
    "grid_searched_decision_tree_outliers_removed.fit(X_train2,y_train2);\n",
    "pred = grid_searched_decision_tree_outliers_removed.predict(X_test2);\n",
    "print f1_score(y_test2,pred,pos_label=\"yes\")\n",
    "print grid_searched_decision_tree_outliers_removed.best_estimator_\n",
    "\n",
    "exportTree(grid_searched_decision_tree_outliers_removed.best_estimator_,\"grid_searched_decision_tree_outliers_removed.pdf\")\n",
    "\n",
    "# 0.8\n",
    "# DecisionTreeClassifier(class_weight=None, criterion='gini', max_depth=2,\n",
    "#             max_features=None, max_leaf_nodes=None, min_samples_leaf=1,\n",
    "#             min_samples_split=23, min_weight_fraction_leaf=0.0,\n",
    "#             presort=False, random_state=None, splitter='random')\n",
    "\n"
   ]
  },
  {
   "cell_type": "markdown",
   "metadata": {
    "collapsed": true
   },
   "source": [
    "Now let's look at SVM results."
   ]
  },
  {
   "cell_type": "code",
   "execution_count": 15,
   "metadata": {
    "collapsed": false
   },
   "outputs": [
    {
     "name": "stdout",
     "output_type": "stream",
     "text": [
      "SVC(C=10, cache_size=200, class_weight=None, coef0=0.0,\n",
      "  decision_function_shape=None, degree=3, gamma=0.001, kernel='rbf',\n",
      "  max_iter=-1, probability=False, random_state=None, shrinking=True,\n",
      "  tol=0.001, verbose=False)\n",
      "0.794520547945\n"
     ]
    }
   ],
   "source": [
    "scaler = preprocessing.StandardScaler()\n",
    "X_train2 = scaleDataFrame(X_train2,scaler)\n",
    "X_test2 = scaleDataFrame(X_test2,scaler)\n",
    "X_train2.to_csv(\"x_train2_scaled_data.csv\", sep='\\t', encoding='utf-8')\n",
    "\n",
    "clf_gsvm3 = grid_search.GridSearchCV(svm.SVC(),param_grid=SVMparams,scoring=f1_scorer,n_jobs=4,verbose=0)\n",
    "clf_gsvm3.fit(X_train2,y_train2);\n",
    "pred = clf_gsvm3.predict(X_test2);\n",
    "print clf_gsvm3.best_estimator_\n",
    "print f1_score(y_test2,pred,pos_label=\"yes\")\n",
    "\n",
    "# SVC(C=12, cache_size=200, class_weight=None, coef0=0.0,\n",
    "#   decision_function_shape=None, degree=3, gamma=0.0016, kernel='rbf',\n",
    "#   max_iter=-1, probability=False, random_state=None, shrinking=True,\n",
    "#   tol=0.001, verbose=False)\n",
    "# 0.786666666667"
   ]
  },
  {
   "cell_type": "markdown",
   "metadata": {},
   "source": [
    "### Conclusion\n",
    "Decision tree performs better than SVMs but to the margin only. However, they have 2 significant advantages: \n",
    "    1. They are super easy to interpret and to explain\n",
    "    2. They run faster\n",
    "I wasn't very succesful in improving the results by tuning the model. Removing outliers improves a tiny bit, but not significantly. I believe the reason is that the model mostly depend on a single feature (failures) as the decision tree suggests, so there is not much to tune. "
   ]
  },
  {
   "cell_type": "markdown",
   "metadata": {},
   "source": [
    "### Question 5 - Final F<sub>1</sub> Score\n",
    "*What is the final model's F<sub>1</sub> score for training and testing? How does that score compare to the untuned model?*\n"
   ]
  },
  {
   "cell_type": "markdown",
   "metadata": {},
   "source": [
    "**Answer: **\n",
    "Final score on training set is 0.803.\n",
    "It is clearly better than the untuned model (DT was 0.73 and SVM 0.76). The decision tree implies that the # of failures contains all of the explanatory power of the data. Looking at the CSV, the relationship is clearly visible when putting the \"failures\" and \"passed\" columns side by side. The decision tree suggest that no other variable can provide additional information to improve the classification. Either the rest of the data has no correlation at all with the labels, or they are all strongly correlated to \"failures\". Which makes sense: the reasons why a student failed in the past are likely to be similar to the reasons why the student is about to fail (not pass) this year. "
   ]
  },
  {
   "cell_type": "markdown",
   "metadata": {},
   "source": [
    "> **Note**: Once you have completed all of the code implementations and successfully answered each question above, you may finalize your work by exporting the iPython Notebook as an HTML document. You can do this by using the menu above and navigating to  \n",
    "**File -> Download as -> HTML (.html)**. Include the finished document along with this notebook as your submission."
   ]
  }
 ],
 "metadata": {
  "kernelspec": {
   "display_name": "Python 2",
   "language": "python",
   "name": "python2"
  },
  "language_info": {
   "codemirror_mode": {
    "name": "ipython",
    "version": 2
   },
   "file_extension": ".py",
   "mimetype": "text/x-python",
   "name": "python",
   "nbconvert_exporter": "python",
   "pygments_lexer": "ipython2",
   "version": "2.7.11"
  }
 },
 "nbformat": 4,
 "nbformat_minor": 0
}
